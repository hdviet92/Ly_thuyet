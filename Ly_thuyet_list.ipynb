{
 "cells": [
  {
   "cell_type": "code",
   "execution_count": 1,
   "id": "1b3712a1",
   "metadata": {},
   "outputs": [],
   "source": [
    "languages= ['Python', 'C#', 'Java', 'PHP']\n",
    "# Hàm len trả về số phân tử trong list\n",
    "len(languages)\n",
    "\n",
    "# Hàm append: thêm phần tử vào cuối list\n",
    "languages_append=languages.append('HTML')\n",
    "\n",
    "# Nối list bằng toán tử cộng\n",
    "languages2= ['mango', 'chees']\n",
    "languages3 = languages + languages2\n",
    "\n",
    "# Xóa phân từ trong list = hàm remove\n",
    "languages_remove = languages.remove('C#')\n",
    "\n",
    "# Xóa phân từ trong list = hàm pop xóa theo chỉ số phần tử, mặc định xóa phần tử cuối cùng và lấy phân tử từ trong list ra\n",
    "languages_pop = languages.pop(1)\n",
    "\n",
    "# Xóa phân từ trong list = hàm del xóa theo chỉ số phần tử, không có chỉ số phần tử thì có hết list\n",
    "#del languages[1]\n",
    "\n",
    "# Thay thê phân tử trong list\n",
    "#languages[0] = 'haha'\n",
    "\n",
    "# làm sạch phân tử trong list\n",
    "languages_clear = languages.clear()\n",
    "\n",
    "# tạo bản copy của list\n",
    "languages_copy = languages.copy()\n",
    "\n",
    "# Sắp xếp tên list\n",
    "language_sort = languages.sort()"
   ]
  },
  {
   "cell_type": "code",
   "execution_count": 2,
   "id": "2fe433a1",
   "metadata": {},
   "outputs": [
    {
     "name": "stdout",
     "output_type": "stream",
     "text": [
      "[22, 21, 20]\n",
      "[-11, -10]\n"
     ]
    }
   ],
   "source": [
    "chuoi = '-10 20 21 22 -11'.split()\n",
    "list_duong = []\n",
    "list_am = []\n",
    "\n",
    "for i in chuoi:\n",
    "    if int(i) >= 0:\n",
    "        list_duong.append(int(i))\n",
    "    else:\n",
    "        list_am.append(int(i))\n",
    "        \n",
    "list_duong.sort(reverse=True)\n",
    "list_am.sort()\n",
    "\n",
    "print(list_duong)\n",
    "print(list_am)"
   ]
  }
 ],
 "metadata": {
  "kernelspec": {
   "display_name": "Python 3 (ipykernel)",
   "language": "python",
   "name": "python3"
  },
  "language_info": {
   "codemirror_mode": {
    "name": "ipython",
    "version": 3
   },
   "file_extension": ".py",
   "mimetype": "text/x-python",
   "name": "python",
   "nbconvert_exporter": "python",
   "pygments_lexer": "ipython3",
   "version": "3.9.7"
  }
 },
 "nbformat": 4,
 "nbformat_minor": 5
}
