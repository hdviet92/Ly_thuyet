{
 "cells": [
  {
   "cell_type": "code",
   "execution_count": 1,
   "id": "2836a110",
   "metadata": {},
   "outputs": [
    {
     "name": "stdout",
     "output_type": "stream",
     "text": [
      "0\n"
     ]
    }
   ],
   "source": [
    "import datetime\n",
    "\n",
    "day = 4\n",
    "month = 4\n",
    "year = 2022\n",
    "\n",
    "mydate = datetime.datetime(year, month, day)\n",
    "\n",
    "weekday = mydate.weekday()\n",
    "\n",
    "print (weekday)"
   ]
  },
  {
   "cell_type": "code",
   "execution_count": 2,
   "id": "69e569dd",
   "metadata": {},
   "outputs": [
    {
     "name": "stdout",
     "output_type": "stream",
     "text": [
      "Nhập tháng: 2\n",
      "Nhập năm: 2020\n",
      "tháng 2 năm 2020 có 28 ngày\n"
     ]
    }
   ],
   "source": [
    "month = int(input('Nhập tháng: '))\n",
    "year = int(input('Nhập năm: '))\n",
    "\n",
    "if month == 2 and 0 == year%400:\n",
    "    print('tháng {0} năm {1} có 29 ngày'.format(month,year))\n",
    "elif month == 2 and 0 != year%400:\n",
    "    print('tháng {0} năm {1} có 28 ngày'.format(month,year))\n",
    "elif month == 1 or month == 3 or month == 5 or month == 7 or month == 8 or month == 10 or month == 12:\n",
    "    print('tháng {0} năm {1} có 31 ngày'.format(month,year))\n",
    "elif month == 4 or month == 6 or month == 9 or month == 11:\n",
    "    print('tháng {0} năm {1} có 30 ngày'.format(month,year))\n",
    "\n"
   ]
  }
 ],
 "metadata": {
  "kernelspec": {
   "display_name": "Python 3 (ipykernel)",
   "language": "python",
   "name": "python3"
  },
  "language_info": {
   "codemirror_mode": {
    "name": "ipython",
    "version": 3
   },
   "file_extension": ".py",
   "mimetype": "text/x-python",
   "name": "python",
   "nbconvert_exporter": "python",
   "pygments_lexer": "ipython3",
   "version": "3.9.7"
  }
 },
 "nbformat": 4,
 "nbformat_minor": 5
}
