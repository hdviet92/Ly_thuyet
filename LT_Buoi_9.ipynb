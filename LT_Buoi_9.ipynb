{
 "cells": [
  {
   "cell_type": "code",
   "execution_count": 1,
   "id": "a3378cb1",
   "metadata": {},
   "outputs": [
    {
     "name": "stdout",
     "output_type": "stream",
     "text": [
      "số chẵn\n",
      "End\n"
     ]
    }
   ],
   "source": [
    "# Cú pháp if\n",
    "number = 8\n",
    "\n",
    "if number%2 == 0:\n",
    "    print('số chẵn')\n",
    "    \n",
    "print ('End')"
   ]
  },
  {
   "cell_type": "code",
   "execution_count": 2,
   "id": "00e4a78e",
   "metadata": {},
   "outputs": [
    {
     "name": "stdout",
     "output_type": "stream",
     "text": [
      "Số lẻ\n",
      "End\n"
     ]
    }
   ],
   "source": [
    "# Cú pháp if-else\n",
    "number = 9\n",
    "\n",
    "if number % 2 == 0:\n",
    "    print('số chẵn')\n",
    "else:\n",
    "    print('Số lẻ')\n",
    "    \n",
    "print ('End')"
   ]
  },
  {
   "cell_type": "code",
   "execution_count": 3,
   "id": "2e727659",
   "metadata": {},
   "outputs": [
    {
     "name": "stdout",
     "output_type": "stream",
     "text": [
      "Số thứ 1: 4\n",
      "Số thứ 2: 8\n",
      "Số thứ 3: 12\n",
      "cấp số cộng\n",
      "3 số này tạo thành 1 cấp số công chẵn\n"
     ]
    }
   ],
   "source": [
    "# ví dụ: 3 số cấp số cộng với if-else lồng nhau\n",
    "n1 = int(input('Số thứ 1: '))\n",
    "n2 = int(input('Số thứ 2: '))\n",
    "n3 = int(input('Số thứ 3: '))\n",
    "\n",
    "if n1 + n2 == 2*n3 or n2 + n3 == 2*n1 or n1 + n3 == 2*n2:\n",
    "    print('cấp số cộng')\n",
    "    if n1%2==0 and n2%2==0 and n3%2==0:\n",
    "        print('3 số này tạo thành 1 cấp số công chẵn')\n",
    "    else:\n",
    "        print('có 1 số lẻ')\n",
    "else:\n",
    "    print('không phải cấp số cộng')"
   ]
  },
  {
   "cell_type": "code",
   "execution_count": 4,
   "id": "1762adaa",
   "metadata": {},
   "outputs": [
    {
     "name": "stdout",
     "output_type": "stream",
     "text": [
      "nhâp: 1\n",
      "số một\n"
     ]
    }
   ],
   "source": [
    "number = int(input('nhâp: '))\n",
    "if number==1:\n",
    "    print('số một')\n",
    "elif number==2:\n",
    "    print('số hai')\n",
    "elif number==3:\n",
    "    print('số ba')\n",
    "elif number==4:\n",
    "    print('số bốn')\n",
    "else:\n",
    "    print('some number')"
   ]
  },
  {
   "cell_type": "code",
   "execution_count": 5,
   "id": "33fd7b76",
   "metadata": {},
   "outputs": [
    {
     "name": "stdout",
     "output_type": "stream",
     "text": [
      "nhập n1: 3\n",
      "nhập n2: 4\n",
      "Max =  4\n"
     ]
    }
   ],
   "source": [
    "n1 = int (input('nhập n1: '))\n",
    "n2 = int (input('nhập n2: '))\n",
    "Max = n1 if n1 >= n2 else n2\n",
    "print (\"Max = \", Max)"
   ]
  },
  {
   "cell_type": "markdown",
   "id": "6fe07020",
   "metadata": {},
   "source": [
    "##### "
   ]
  }
 ],
 "metadata": {
  "kernelspec": {
   "display_name": "Python 3 (ipykernel)",
   "language": "python",
   "name": "python3"
  },
  "language_info": {
   "codemirror_mode": {
    "name": "ipython",
    "version": 3
   },
   "file_extension": ".py",
   "mimetype": "text/x-python",
   "name": "python",
   "nbconvert_exporter": "python",
   "pygments_lexer": "ipython3",
   "version": "3.9.7"
  }
 },
 "nbformat": 4,
 "nbformat_minor": 5
}
