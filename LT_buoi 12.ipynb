{
 "cells": [
  {
   "cell_type": "code",
   "execution_count": 1,
   "id": "8ab2b6bf",
   "metadata": {},
   "outputs": [
    {
     "name": "stdout",
     "output_type": "stream",
     "text": [
      "1\n",
      "2\n",
      "6\n"
     ]
    }
   ],
   "source": [
    "n = 3\n",
    "gt = 1\n",
    "for i in range (1,n+1):\n",
    "    gt *= i\n",
    "    print(gt)\n",
    "\n",
    "\n"
   ]
  },
  {
   "cell_type": "code",
   "execution_count": null,
   "id": "2ad5b184",
   "metadata": {},
   "outputs": [],
   "source": []
  },
  {
   "cell_type": "code",
   "execution_count": 2,
   "id": "c7d4f525",
   "metadata": {},
   "outputs": [
    {
     "name": "stdout",
     "output_type": "stream",
     "text": [
      "11111\n",
      "00011\n",
      "5 - 2\n"
     ]
    }
   ],
   "source": [
    "d1 = input()\n",
    "d2 = input()\n",
    "s1 = 0\n",
    "s2 = 0\n",
    "for i in d1:\n",
    "    if i == '1':\n",
    "        s1 += 1\n",
    "for i in d2:\n",
    "    if i == '1':\n",
    "        s2 += 1\n",
    "print (s1,'-',s2)\n"
   ]
  },
  {
   "cell_type": "code",
   "execution_count": 3,
   "id": "d9a44359",
   "metadata": {
    "scrolled": true
   },
   "outputs": [
    {
     "name": "stdout",
     "output_type": "stream",
     "text": [
      "\n",
      "*\n",
      "**\n",
      "***\n",
      "****\n",
      "*****\n",
      "******\n",
      "*******\n",
      "******\n",
      "*****\n",
      "****\n",
      "***\n",
      "**\n",
      "*\n"
     ]
    }
   ],
   "source": [
    "n = 7\n",
    "for j in range(n):\n",
    "    print ((j)*'*')\n",
    "for i in range(n):\n",
    "    print ((n-i)*'*')"
   ]
  },
  {
   "cell_type": "code",
   "execution_count": 4,
   "id": "0e3959d6",
   "metadata": {},
   "outputs": [
    {
     "name": "stdout",
     "output_type": "stream",
     "text": [
      "******\n",
      "*****\n",
      "****\n",
      "***\n",
      "**\n",
      "*\n"
     ]
    }
   ],
   "source": [
    "n = 6\n",
    "for j in range(n):\n",
    "    for i in range(n-j):      \n",
    "        print('*', end='')\n",
    "    print('')"
   ]
  }
 ],
 "metadata": {
  "kernelspec": {
   "display_name": "Python 3 (ipykernel)",
   "language": "python",
   "name": "python3"
  },
  "language_info": {
   "codemirror_mode": {
    "name": "ipython",
    "version": 3
   },
   "file_extension": ".py",
   "mimetype": "text/x-python",
   "name": "python",
   "nbconvert_exporter": "python",
   "pygments_lexer": "ipython3",
   "version": "3.9.7"
  }
 },
 "nbformat": 4,
 "nbformat_minor": 5
}
