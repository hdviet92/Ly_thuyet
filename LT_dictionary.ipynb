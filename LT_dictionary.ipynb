{
 "cells": [
  {
   "cell_type": "code",
   "execution_count": 1,
   "id": "21dac997",
   "metadata": {},
   "outputs": [
    {
     "name": "stdout",
     "output_type": "stream",
     "text": [
      "red\n",
      "{'Mango': 'Yellow', 'Lemon': 'Green', 'Dragonfruit': 'red', 'Cherry': 'red'}\n",
      "{'aaa': (8, 9, 10), 'bbb': [9, 7, 9]}\n",
      "{('aaa', '1/1/11'): (8, 9, 10), ('bbb', '2/2/22'): [9, 7, 9]}\n",
      "{'Đại học FPT': {('aaa', '1/1/11'): (8, 9, 10)}, 'Đại học BKĐN': {('bbb', '2/2/22'): [9, 7, 9]}}\n"
     ]
    }
   ],
   "source": [
    "#cách khởi tạo, key (trước dấu :) là duy nhất ko trùng lặp và các giá trị (sau dấu :) theo key có thể trùng lặp\n",
    "fruits = {'Mango':'Yellow','Lemon':\"Green\",'Dragonfruit':'red','Cherry':'red'}\n",
    "print(fruits['Cherry'])\n",
    "print(fruits)\n",
    "\n",
    "datasv = {'aaa': (8, 9, 10), 'bbb': [9, 7, 9]}\n",
    "datasv2 = {('aaa', '1/1/11'): (8, 9, 10), ('bbb','2/2/22'): [9, 7, 9]}\n",
    "datasv3 = {'Đại học FPT':{('aaa', '1/1/11'): (8, 9, 10)}, 'Đại học BKĐN':{('bbb','2/2/22'): [9, 7, 9]}}\n",
    "\n",
    "\n",
    "print(datasv)\n",
    "print(datasv2)\n",
    "print(datasv3)"
   ]
  },
  {
   "cell_type": "code",
   "execution_count": 2,
   "id": "ca40683a",
   "metadata": {
    "scrolled": true
   },
   "outputs": [
    {
     "name": "stdout",
     "output_type": "stream",
     "text": [
      "{'Mango': 'Yellow', 'Lemon': 'Green', 'Dragonfruit': 'red', 'Cherry': 'red'}\n"
     ]
    }
   ],
   "source": [
    "# Sao chép phần tử\n",
    "fruits_copy = fruits.copy()\n",
    "print(fruits_copy)"
   ]
  },
  {
   "cell_type": "code",
   "execution_count": 3,
   "id": "89952cce",
   "metadata": {},
   "outputs": [],
   "source": [
    "# làm rỗng phần tử\n",
    "#fruits_copy.clear()"
   ]
  },
  {
   "cell_type": "code",
   "execution_count": 4,
   "id": "ee9c1b13",
   "metadata": {},
   "outputs": [],
   "source": [
    "# xóa 1 phần tử theo chỉ định key\n",
    "#fruits_copy.pop('Mango')"
   ]
  },
  {
   "cell_type": "code",
   "execution_count": 5,
   "id": "ac51c59b",
   "metadata": {
    "scrolled": true
   },
   "outputs": [],
   "source": [
    "# tách key\n",
    "sub_fruits = fruits_copy.fromkeys((4, 5, 6),'Grey')\n"
   ]
  },
  {
   "cell_type": "code",
   "execution_count": 6,
   "id": "67692625",
   "metadata": {},
   "outputs": [
    {
     "name": "stdout",
     "output_type": "stream",
     "text": [
      "{('aaa', '1/1/11'): (8, 9, 10)}\n"
     ]
    }
   ],
   "source": [
    "# get dùng để lấy giá trị value của key sử dụng rất nhiều\n",
    "tch = datasv3.get('Đại học FPT')\n",
    "print(tch)"
   ]
  },
  {
   "cell_type": "code",
   "execution_count": 7,
   "id": "3f86e1f4",
   "metadata": {},
   "outputs": [
    {
     "name": "stdout",
     "output_type": "stream",
     "text": [
      "dict_keys(['Mango', 'Lemon', 'Dragonfruit', 'Cherry'])\n"
     ]
    }
   ],
   "source": [
    "# phương thức keys - lấy toàn bộ key của dictionary sử dụng rất nhiều\n",
    "fruits_name = fruits.keys()\n",
    "print(fruits_name)"
   ]
  },
  {
   "cell_type": "code",
   "execution_count": 8,
   "id": "64a59748",
   "metadata": {},
   "outputs": [
    {
     "name": "stdout",
     "output_type": "stream",
     "text": [
      "dict_values(['Yellow', 'Green', 'red', 'red'])\n"
     ]
    }
   ],
   "source": [
    "# phương thức values - lấy toàn bộ giá trị của dictionary sử dụng rất nhiều\n",
    "colors = fruits.values()\n",
    "print(colors)"
   ]
  },
  {
   "cell_type": "code",
   "execution_count": 9,
   "id": "25ae5e3f",
   "metadata": {
    "scrolled": true
   },
   "outputs": [
    {
     "name": "stdout",
     "output_type": "stream",
     "text": [
      "dict_items([('Mango', 'Yellow'), ('Lemon', 'Green'), ('Dragonfruit', 'red'), ('Cherry', 'red')])\n",
      "Quả Mango có màu Yellow\n",
      "Quả Lemon có màu Green\n",
      "Quả Dragonfruit có màu red\n",
      "Quả Cherry có màu red\n",
      "------------------------------------------\n",
      "Quả Mango có màu Yellow\n",
      "Quả Lemon có màu Green\n",
      "Quả Dragonfruit có màu red\n",
      "Quả Cherry có màu red\n"
     ]
    }
   ],
   "source": [
    "# phương thức items - lấy toàn bộ keys và giá trị của dictionary trả về tuple\n",
    "fruits_items = fruits.items()\n",
    "print(fruits_items)\n",
    "\n",
    "for key, value in fruits_items:\n",
    "    print('Quả {0} có màu {1}'.format(key,value))\n",
    "print('------------------------------------------')\n",
    "    \n",
    "for key in fruits.keys():\n",
    "    print('Quả {0} có màu {1}'.format(key,fruits[key]))"
   ]
  },
  {
   "cell_type": "code",
   "execution_count": 10,
   "id": "4266da7d",
   "metadata": {},
   "outputs": [
    {
     "name": "stdout",
     "output_type": "stream",
     "text": [
      "{'Mango': 'Yellow', 'Lemon': 'Green', 'Dragonfruit': 'red', 'Cherry': 'red', 'haha': 'red'}\n",
      "{'Mango': 'red', 'Lemon': 'Green', 'Dragonfruit': 'red', 'Cherry': 'red', 'haha': 'red'}\n",
      "{'Lemon': 'Green', 'Dragonfruit': 'red', 'Cherry': 'red', 'haha': 'red'}\n"
     ]
    }
   ],
   "source": [
    "# THÊM PHẦN TỬ VÀO DICTIONARY\n",
    "fruits ['haha'] = 'red'\n",
    "print(fruits)\n",
    "\n",
    "#cập nhật\n",
    "fruits ['Mango'] = 'red'\n",
    "print(fruits)\n",
    "\n",
    "# xóa phần tử\n",
    "del fruits ['Mango']\n",
    "print(fruits)"
   ]
  }
 ],
 "metadata": {
  "kernelspec": {
   "display_name": "Python 3 (ipykernel)",
   "language": "python",
   "name": "python3"
  },
  "language_info": {
   "codemirror_mode": {
    "name": "ipython",
    "version": 3
   },
   "file_extension": ".py",
   "mimetype": "text/x-python",
   "name": "python",
   "nbconvert_exporter": "python",
   "pygments_lexer": "ipython3",
   "version": "3.9.7"
  }
 },
 "nbformat": 4,
 "nbformat_minor": 5
}
