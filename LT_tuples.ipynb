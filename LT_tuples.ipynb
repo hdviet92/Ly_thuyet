{
 "cells": [
  {
   "cell_type": "code",
   "execution_count": 1,
   "id": "f7ea8a72",
   "metadata": {},
   "outputs": [
    {
     "name": "stdout",
     "output_type": "stream",
     "text": [
      "('Python', 'HTML', 'PHP')\n"
     ]
    }
   ],
   "source": [
    "# Cách cách tạo tuples\n",
    "# Cách đóng mở ngoặc kép các phần tử\n",
    "languages1 = ('Python', 'HTML', 'PHP')\n",
    "\n",
    "# Nhập các phần tử không cần dấu ngoặc kép\n",
    "languages2 = 'Python', 'HTML', 'PHP'\n",
    "print(languages2)\n",
    "# Muốn tuples có 1 phần tử thì thêm dấu phẩy vào sau ký tự đó\n",
    "languages3 = 'Python',\n",
    "\n",
    "# Muốn cập nhật phần từ trong tuples thì chuyển sang dạng list để chỉnh sửa rồi chuyển qua lại tuples"
   ]
  },
  {
   "cell_type": "code",
   "execution_count": 2,
   "id": "612adc36",
   "metadata": {
    "scrolled": true
   },
   "outputs": [
    {
     "name": "stdout",
     "output_type": "stream",
     "text": [
      "4\n"
     ]
    }
   ],
   "source": [
    "numbers = (1,2,3),(4,5,6),(7,8,9)\n",
    "four = numbers[1][0]\n",
    "print (four)"
   ]
  },
  {
   "cell_type": "code",
   "execution_count": 3,
   "id": "9e5080d7",
   "metadata": {},
   "outputs": [
    {
     "name": "stdout",
     "output_type": "stream",
     "text": [
      "['dfdf', 'Python', 'HTML']\n",
      "PHP\n"
     ]
    }
   ],
   "source": [
    "languages = ('dfdf','Python', 'HTML', 'PHP') # packing\n",
    "*python, others= languages # unpack: \n",
    "\n",
    "print(python)\n",
    "print(others)"
   ]
  }
 ],
 "metadata": {
  "kernelspec": {
   "display_name": "Python 3 (ipykernel)",
   "language": "python",
   "name": "python3"
  },
  "language_info": {
   "codemirror_mode": {
    "name": "ipython",
    "version": 3
   },
   "file_extension": ".py",
   "mimetype": "text/x-python",
   "name": "python",
   "nbconvert_exporter": "python",
   "pygments_lexer": "ipython3",
   "version": "3.9.7"
  }
 },
 "nbformat": 4,
 "nbformat_minor": 5
}
