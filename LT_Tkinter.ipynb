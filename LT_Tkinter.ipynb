{
 "cells": [
  {
   "cell_type": "code",
   "execution_count": 1,
   "id": "95ca3634",
   "metadata": {},
   "outputs": [],
   "source": [
    "# Bước 1: gọi thư viện tkinter\n",
    "from tkinter import *\n",
    "\n",
    "# Bước 2: Tạo cửa sổ chính\n",
    "root = Tk()\n",
    "root.title('Calculator')\n",
    "root.geometry('400x200')\n",
    "root.resizable(0, 0)\n",
    "root.eval('tk::PlaceWindow . center')\n",
    "\n",
    "# Bước 3:\n",
    "label = Label(root, text='Hello world')\n",
    "label.place(x=100, y=50)\n",
    "\n",
    "label12 = Label(root, text='Python Programming')\n",
    "label12.place(x=100, y=80, height=30, width=200)\n",
    "\n",
    "# Bước 4. Tạo vòng lặp vô hạn\n",
    "root.mainloop()"
   ]
  },
  {
   "cell_type": "code",
   "execution_count": 2,
   "id": "7d035d60",
   "metadata": {},
   "outputs": [],
   "source": [
    "        from tkinter import *\n",
    "\n",
    "        login = Tk()\n",
    "        login.title('Login')\n",
    "        login.geometry('400x250')\n",
    "        login.resizable(0, 0)\n",
    "        login.eval('tk::PlaceWindow . center')\n",
    "\n",
    "username = Label(login, text='Username:').place(x=30, y=50)\n",
    "email = Label(login, text='Email:').place(x=30, y=90)\n",
    "password = Label(login, text='Password:').place(x=30, y=130)\n",
    "\n",
    "entry1 = Entry(login).place(x=100, y=50)\n",
    "entry2 = Entry(login).place(x=100, y=90)\n",
    "entry3 = Entry(login).place(x=100, y=130)\n",
    "\n",
    "button = Button(login, text='Login').pack(side=BOTTOM)\n",
    "\n",
    "login.mainloop()"
   ]
  },
  {
   "cell_type": "code",
   "execution_count": 3,
   "id": "f77c8e7f",
   "metadata": {},
   "outputs": [],
   "source": [
    "from tkinter import * \n",
    "\n",
    "window = Tk()\n",
    "window.title('Gird')\n",
    "\n",
    "for i in range(5):\n",
    "    for j in range(3):\n",
    "        frame = Frame(window, relief=RAISED, borderwidth=5)\n",
    "        frame.grid(row=i, column=j)\n",
    "        label = Label(master=frame, text=f'Row {i}\\nColumn {j}')\n",
    "        label.pack()\n",
    "\n",
    "window.mainloop()\n",
    "        "
   ]
  },
  {
   "cell_type": "code",
   "execution_count": 4,
   "id": "8751fb49",
   "metadata": {},
   "outputs": [],
   "source": [
    "from tkinter import * \n",
    "\n",
    "window = Tk()\n",
    "window.geometry('400x250')\n",
    "window.title('Fill Color')\n",
    "\n",
    "frame1 = Frame(master=window, height=80, bg='red')\n",
    "frame1.pack(fill=X)\n",
    "\n",
    "frame2 = Frame(master=window, height=50, bg='yellow')\n",
    "frame2.pack(fill=X)\n",
    "\n",
    "frame3 = Frame(master=window, height=270, bg='orange')\n",
    "frame3.pack(fill=X)\n",
    "\n",
    "window.mainloop()"
   ]
  },
  {
   "cell_type": "code",
   "execution_count": 5,
   "id": "d8e7c1eb",
   "metadata": {},
   "outputs": [],
   "source": [
    "from tkinter import * \n",
    "\n",
    "window = Tk()\n",
    "window.geometry('400x250')\n",
    "window.title('Fill Color 2')\n",
    "\n",
    "frame1 = Frame(master=window, width=100, bg='red')\n",
    "frame1.pack(fill=BOTH, side=LEFT, expand=True)\n",
    "\n",
    "frame2 = Frame(master=window, height=100, bg='yellow')\n",
    "frame2.pack(fill=BOTH, side=LEFT, expand=True)\n",
    "\n",
    "frame3 = Frame(master=window, height=50, bg='orange')\n",
    "frame3.pack(fill=BOTH, side=LEFT, expand=True)\n",
    "\n",
    "window.mainloop()"
   ]
  },
  {
   "cell_type": "code",
   "execution_count": null,
   "id": "15281350",
   "metadata": {},
   "outputs": [],
   "source": []
  }
 ],
 "metadata": {
  "kernelspec": {
   "display_name": "Python 3 (ipykernel)",
   "language": "python",
   "name": "python3"
  },
  "language_info": {
   "codemirror_mode": {
    "name": "ipython",
    "version": 3
   },
   "file_extension": ".py",
   "mimetype": "text/x-python",
   "name": "python",
   "nbconvert_exporter": "python",
   "pygments_lexer": "ipython3",
   "version": "3.9.7"
  }
 },
 "nbformat": 4,
 "nbformat_minor": 5
}
