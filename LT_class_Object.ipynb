{
 "cells": [
  {
   "cell_type": "code",
   "execution_count": 1,
   "id": "b1f9e8f6",
   "metadata": {},
   "outputs": [
    {
     "name": "stdout",
     "output_type": "stream",
     "text": [
      "Name =  Nguyễn Thanh Bình\n",
      "Age =  30\n",
      "Residence =  Hà Nội\n",
      "\n",
      "Name =  Võ Hoàng Yến\n",
      "Age =  25\n",
      "Residence =  Bắc Ninh\n"
     ]
    }
   ],
   "source": [
    "class Person: # tên class viết hoa chữ cái đâù tiên\n",
    "    # liệt kê các thuộc tính (dữ liệu) của lớp\n",
    "    name = 'Nguyễn Thanh Bình'\n",
    "    age = 20\n",
    "    residence = 'Hà Nội'\n",
    "    \n",
    "    # Hàm khởi tạo (constructor)\n",
    "    def __init__(self, name, age, residence):\n",
    "        self.name = name\n",
    "        self.age = age\n",
    "        self.residence = residence\n",
    "     \n",
    "    # liệt kê các phương thức (hành vi) của lớp\n",
    "    def move(self):\n",
    "        print('Tôi có thể di chuyển')\n",
    "        \n",
    "    def say(self):\n",
    "        print('Tôi có thể nói')\n",
    "        \n",
    "    def dance(self):\n",
    "        print('Tôi có thể nhảy')\n",
    "        \n",
    "    def swim(self):\n",
    "        print('Tối có thể bỡi')\n",
    "    \n",
    "    def info(self):\n",
    "        print('Name = ',self.name)\n",
    "        print('Age = ',self.age)\n",
    "        print('Residence = ',self.residence)\n",
    "        \n",
    "        \n",
    "a = Person('Nguyễn Thanh Bình', 22, 'Hà Nội')\n",
    "a.age = 30\n",
    "a.info()\n",
    "print ()\n",
    "\n",
    "b = Person('Võ Hoàng Yến', 25, 'Bắc Ninh')\n",
    "b.info()\n"
   ]
  },
  {
   "cell_type": "code",
   "execution_count": 2,
   "id": "78aa039f",
   "metadata": {},
   "outputs": [
    {
     "name": "stdout",
     "output_type": "stream",
     "text": [
      "Chu vi = 12\n",
      "Diện tích = 6.0\n"
     ]
    }
   ],
   "source": [
    "# Xây dựng lớp tam giác 2 cạnh a, b, c. Phương thức kiểm tra sự tồn tại của tam giác,\n",
    "# pT tính chu vi diện tích\n",
    "import math\n",
    "\n",
    "class Tamgiac:\n",
    "    \n",
    "    # Constructor\n",
    "    def __init__(self, a, b, c):\n",
    "        self.a = a\n",
    "        self.b = b\n",
    "        self.c = c\n",
    "        \n",
    "    def validate(self):\n",
    "        if (self.a + self.b > self.c) and (self.a + self.c > self.b) and (self.b + self.c > self.a):\n",
    "            return True\n",
    "        else:\n",
    "            return False\n",
    "    \n",
    "    def area(self):\n",
    "        if self.validate() is True:\n",
    "            p = (self.a + self.b + self.c)/2\n",
    "            return math.sqrt(p*(p-self.a)*(p-self.b)*(p-self.c))\n",
    "    \n",
    "    def lenght(self):\n",
    "        if self.validate() is True:\n",
    "            return self.a + self.b + self.c\n",
    "        \n",
    "\n",
    "        \n",
    "a = int(input('Nhập cạnh thứ nhất: '))\n",
    "b = int(input('Nhập cạnh thứ hai: '))\n",
    "c = int(input('Nhập cạnh thứ ba: '))\n",
    "tg1 = Tamgiac(a, b, c)\n",
    "chuvi = tg1.lenght()\n",
    "dientich = tg1.area()\n",
    "print('Chu vi =', chuvi)\n",
    "print('Diện tích =', dientich)\n",
    "        "
   ]
  }
 ],
 "metadata": {
  "kernelspec": {
   "display_name": "Python 3 (ipykernel)",
   "language": "python",
   "name": "python3"
  },
  "language_info": {
   "codemirror_mode": {
    "name": "ipython",
    "version": 3
   },
   "file_extension": ".py",
   "mimetype": "text/x-python",
   "name": "python",
   "nbconvert_exporter": "python",
   "pygments_lexer": "ipython3",
   "version": "3.9.7"
  }
 },
 "nbformat": 4,
 "nbformat_minor": 5
}
