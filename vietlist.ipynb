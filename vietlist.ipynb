{
 "cells": [
  {
   "cell_type": "code",
   "execution_count": 1,
   "id": "dfe1bb2d",
   "metadata": {},
   "outputs": [],
   "source": [
    "def songuyento(n):\n",
    "    '''Kiểm tra một số tự nhiên có phải là số nguyên tố hay không'''\n",
    "    \n",
    "    n = int(n)\n",
    "    nt = True\n",
    "    for i in range (2, n//2 + 1):\n",
    "        if n%i == 0:\n",
    "            nt = False\n",
    "            break\n",
    "    return nt"
   ]
  },
  {
   "cell_type": "code",
   "execution_count": 2,
   "id": "768bd7c6",
   "metadata": {},
   "outputs": [],
   "source": [
    "def chukhongdau(fullname):\n",
    "    '''Chuyển chữ có dấu thành không dấu'''\n",
    "    \n",
    "    fullname = fullname.lower()\n",
    "    find = ''\n",
    "    for j in fullname:\n",
    "        if j in 'áàãảạăắằẵẳặâấầẫẩậ':\n",
    "            j = 'a'\n",
    "        elif j in 'đ':\n",
    "            j = 'd'\n",
    "        elif j in 'éèẽẻẹêếềễểệ':\n",
    "            j = 'e'\n",
    "        elif j in 'íìĩỉị':\n",
    "            j = 'i'\n",
    "        elif j in 'óòõỏọôồốỗổộơờớỡởợ':\n",
    "            j = 'o'\n",
    "        elif j in 'úùũủụưứừữửự':\n",
    "            j = 'u'\n",
    "        elif j in 'ýỳỹỷỵ':\n",
    "            j = 'y'\n",
    "        find += j\n",
    "    return find"
   ]
  },
  {
   "cell_type": "code",
   "execution_count": 3,
   "id": "cbb879b3",
   "metadata": {},
   "outputs": [],
   "source": [
    "def UCLN(m, n):\n",
    "    '''UCLN của 2 số tự nhiên'''\n",
    "    \n",
    "    m = int(m)\n",
    "    n = int(n)\n",
    "    while m != n:\n",
    "        if m > n:\n",
    "            m -= n\n",
    "        else:\n",
    "            n -= m\n",
    "    return n"
   ]
  },
  {
   "cell_type": "code",
   "execution_count": 4,
   "id": "6dc46aa7",
   "metadata": {},
   "outputs": [],
   "source": [
    "def quydoi(n, t1, t2, t3):\n",
    "    '''Quy đổi 1 số lớn thành nhiều số nhỏ'''\n",
    "    \n",
    "    n = int(n)\n",
    "    t1 = int(t1)\n",
    "    t2 = int(t2)\n",
    "    t3 = int(t3)\n",
    "    \n",
    "    max1 = n//t1\n",
    "    max2 = n//t2\n",
    "    max3 = n//t3\n",
    "    count = 0\n",
    "\n",
    "    for x in range(max1+1):\n",
    "        for y in range(max2+1):\n",
    "            for z in range(max3+1):\n",
    "                if t1*x + t2*y + t3*z == 100:\n",
    "                    print (x, y ,z)\n",
    "                    count += 1\n",
    "    return count"
   ]
  },
  {
   "cell_type": "code",
   "execution_count": 5,
   "id": "03025c59",
   "metadata": {},
   "outputs": [],
   "source": [
    "def saogiua(n):\n",
    "    '''vẽ hình sao nằm giữa'''\n",
    "    \n",
    "    n = int(n)\n",
    "    for i in range (n):\n",
    "        if i <= n//2:\n",
    "            print (\" \"*(n//2 - i) + '*'*(2*i + 1))\n",
    "        else:\n",
    "            print (\" \"*(i - n//2) + '*'*(2*n - 2*i - 1))\n",
    "    return ''"
   ]
  },
  {
   "cell_type": "code",
   "execution_count": 6,
   "id": "c1882e86",
   "metadata": {},
   "outputs": [],
   "source": [
    "def BCC(n, m, r):\n",
    "    '''In bảng cửu chương'''\n",
    "    \n",
    "    n = int(n)\n",
    "    m = int(m)\n",
    "    r = int(r)\n",
    "    for j in range(1,r+1):\n",
    "        for i in range(n,m+1):\n",
    "            print('{i} x {j} = {kp}'.format(i=i, j=j, kp=i*j), end ='\\t')\n",
    "        print('')\n",
    "    return ''"
   ]
  },
  {
   "cell_type": "code",
   "execution_count": 7,
   "id": "6652bf03",
   "metadata": {},
   "outputs": [],
   "source": [
    "def nghiemgd(a, b, alpha): \n",
    "    '''Tìm nghiệm gần đúng với đoạn ab và hệ số sai alpha '''\n",
    "    \n",
    "    a = float(a)\n",
    "    b = float(b)\n",
    "    alpha = float(alpha)\n",
    "    \n",
    "    import math\n",
    "    fa = math.pow(math.e, a) + math.sin(a)\n",
    "    fb = math.pow(math.e, b) + math.sin(b)\n",
    "    if fa*fb > 0:\n",
    "        print ('no')\n",
    "    else:\n",
    "        while math.fabs(a-b) > alpha:\n",
    "            c = (a + b)/2\n",
    "            fc = math.pow(math.e, c) + math.sin(c)\n",
    "            if fa*fc > 0:\n",
    "                a = c\n",
    "            else:\n",
    "                b = c\n",
    "            fa = math.pow(math.e, a) + math.sin(a)\n",
    "            fb = math.pow(math.e, b) + math.sin(b)\n",
    "\n",
    "    return a, fa"
   ]
  },
  {
   "cell_type": "code",
   "execution_count": 8,
   "id": "b6e821ea",
   "metadata": {},
   "outputs": [],
   "source": [
    "def fix_name(fullname):\n",
    "    '''Sửa lại tên đúng quy chuẩn khi nhập vào'''\n",
    "    \n",
    "    fullname = fullname.split()\n",
    "    fix = ''\n",
    "    for i in fullname:\n",
    "            fix += i[0].upper() + i[1:].lower() + ' '\n",
    "    fix = fix.strip()\n",
    "    return fix"
   ]
  },
  {
   "cell_type": "code",
   "execution_count": 9,
   "id": "425fc684",
   "metadata": {},
   "outputs": [],
   "source": [
    "def testmv(mv):\n",
    "    '''Kiểm tra mã vạch gồm 13 ký tự có đúng hay không'''\n",
    "    \n",
    "    # Nhập mã vạch\n",
    "    mv = mv.strip()\n",
    "    chuoi = mv.split()\n",
    "\n",
    "    # kiểm tra điều kiện dữ liệu\n",
    "    if mv.isdigit() and len(mv) == 13:\n",
    "\n",
    "        # tính tổng theo vị trí chắn lẻ trong chuỗi\n",
    "        for i in chuoi:\n",
    "            A = 0\n",
    "            B = 0\n",
    "            for j  in range(0,len(i)-2,2):\n",
    "                A += int(i[0+j])\n",
    "                B += int(i[1+j])\n",
    "\n",
    "        # Kiểm tra mã vạch\n",
    "        D = A + 3*B\n",
    "        C  = int(i[12])\n",
    "        if D/10 != 0:\n",
    "            F = 10 - D%10\n",
    "        else:\n",
    "            F = 0\n",
    "        if F == C:\n",
    "            print('Mã vạch {i} đúng '.format(i=i))\n",
    "        else:\n",
    "            print('Mã vạch {i} sai '.format(i=i))        \n",
    "    else:\n",
    "        print('lỗi')"
   ]
  },
  {
   "cell_type": "code",
   "execution_count": 10,
   "id": "59b555db",
   "metadata": {},
   "outputs": [],
   "source": [
    "def giaithua(n):\n",
    "    '''Giai thừa của một số tự nhiên'''\n",
    "    \n",
    "    n = int(n)\n",
    "    gt = 1\n",
    "    for i in range (1,n+1):\n",
    "        gt *= i\n",
    "    return gt"
   ]
  },
  {
   "cell_type": "code",
   "execution_count": 11,
   "id": "64b59504",
   "metadata": {},
   "outputs": [],
   "source": [
    "def ty_so(d1, d2):\n",
    "    '''Tính tỷ số sút luân luân của hai đội'''\n",
    "    \n",
    "    s1 = 0\n",
    "    s2 = 0\n",
    "    for i in d1:\n",
    "        if i == '1':\n",
    "            s1 += 1\n",
    "    for i in d2:\n",
    "        if i == '1':\n",
    "            s2 += 1\n",
    "    return s1, s2"
   ]
  },
  {
   "cell_type": "code",
   "execution_count": 12,
   "id": "4646b328",
   "metadata": {},
   "outputs": [],
   "source": [
    "def nguyenam(text):\n",
    "    '''Tìm nguyên âm'''\n",
    "\n",
    "    text = text.lower()\n",
    "    return 'u' in text or 'e' in text or 'o' in text or 'a' in text or 'i' in text"
   ]
  },
  {
   "cell_type": "code",
   "execution_count": null,
   "id": "c73f9630",
   "metadata": {},
   "outputs": [],
   "source": []
  }
 ],
 "metadata": {
  "kernelspec": {
   "display_name": "Python 3 (ipykernel)",
   "language": "python",
   "name": "python3"
  },
  "language_info": {
   "codemirror_mode": {
    "name": "ipython",
    "version": 3
   },
   "file_extension": ".py",
   "mimetype": "text/x-python",
   "name": "python",
   "nbconvert_exporter": "python",
   "pygments_lexer": "ipython3",
   "version": "3.9.7"
  }
 },
 "nbformat": 4,
 "nbformat_minor": 5
}
